{
  "metadata": {
    "kernelspec": {
      "name": "python",
      "display_name": "Python (Pyodide)",
      "language": "python"
    },
    "language_info": {
      "codemirror_mode": {
        "name": "python",
        "version": 3
      },
      "file_extension": ".py",
      "mimetype": "text/x-python",
      "name": "python",
      "nbconvert_exporter": "python",
      "pygments_lexer": "ipython3",
      "version": "3.8"
    }
  },
  "nbformat_minor": 5,
  "nbformat": 4,
  "cells": [
    {
      "id": "8a5a00a9-9d0a-4e8f-ae8c-59c85be0672e",
      "cell_type": "code",
      "source": "import math\n\ndef sin_function(x):\n    return math.sin(x)",
      "metadata": {
        "trusted": true
      },
      "outputs": [],
      "execution_count": 2
    },
    {
      "id": "43146852-cc1c-4c69-97d2-7c7957479ac2",
      "cell_type": "markdown",
      "source": "The sin_function(x) takes an input of x which is a float and returns the sin of x using the math.sin() function.",
      "metadata": {}
    },
    {
      "id": "6de993b3-3dcf-402c-afdf-801fe8a5a6df",
      "cell_type": "code",
      "source": "def cos_function(x):\n    return math.cos(x)",
      "metadata": {
        "trusted": true
      },
      "outputs": [],
      "execution_count": 3
    },
    {
      "id": "d97b9d01-981e-4181-880f-0655f81854cb",
      "cell_type": "markdown",
      "source": "The cos_function(x) takes an input of x which is a float and returns the cos of x using the math.cos() function.",
      "metadata": {}
    },
    {
      "id": "6b98a4c0-7d04-4d9f-9720-d6fad749169e",
      "cell_type": "code",
      "source": "import numpy as np\n\nx_values = np.linspace(0, 2 * math.pi, 1000)\n\nsin_values = [sin_function(x) for x in x_values]\ncos_values = [cos_function(x) for x in x_values]",
      "metadata": {
        "trusted": true
      },
      "outputs": [],
      "execution_count": 4
    },
    {
      "id": "2e3759f8-11aa-456d-aede-6197a8942b06",
      "cell_type": "markdown",
      "source": "In this cell, numpy.linspace() generates 1000 evenly spaced values of x between 0 and 2pi. It then calculates the corresponding sine and cosine values using the previously defined functions.",
      "metadata": {}
    },
    {
      "id": "aa6491ce-ca0c-4737-9e26-324415d392d2",
      "cell_type": "code",
      "source": "for i in range(10):\n    x = x_values[i]\n    sin_x = sin_values[i]\n    cos_x = cos_values[i]\n    print(f\"{x:<6.3f} {sin_x:<6.3f} {cos_x:<6.3f}\")",
      "metadata": {
        "trusted": true
      },
      "outputs": [
        {
          "name": "stdout",
          "text": "0.000  0.000  1.000 \n0.006  0.006  1.000 \n0.013  0.013  1.000 \n0.019  0.019  1.000 \n0.025  0.025  1.000 \n0.031  0.031  1.000 \n0.038  0.038  0.999 \n0.044  0.044  0.999 \n0.050  0.050  0.999 \n0.057  0.057  0.998 \n",
          "output_type": "stream"
        }
      ],
      "execution_count": 5
    },
    {
      "id": "c4a2d619-3b18-4b7d-80cf-c9c6357ce3f7",
      "cell_type": "markdown",
      "source": "This cell uses a for loop to print the first 10 values of x, sin(x), and cos(x) in a table.",
      "metadata": {}
    }
  ]
}