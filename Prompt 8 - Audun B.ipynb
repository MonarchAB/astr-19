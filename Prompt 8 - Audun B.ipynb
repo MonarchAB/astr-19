{
  "metadata": {
    "kernelspec": {
      "name": "python",
      "display_name": "Python (Pyodide)",
      "language": "python"
    },
    "language_info": {
      "codemirror_mode": {
        "name": "python",
        "version": 3
      },
      "file_extension": ".py",
      "mimetype": "text/x-python",
      "name": "python",
      "nbconvert_exporter": "python",
      "pygments_lexer": "ipython3",
      "version": "3.8"
    }
  },
  "nbformat_minor": 4,
  "nbformat": 4,
  "cells": [
    {
      "cell_type": "code",
      "source": "import numpy as np\nimport matplotlib.pyplot as plt",
      "metadata": {
        "trusted": true
      },
      "outputs": [],
      "execution_count": null
    },
    {
      "cell_type": "code",
      "source": "x = np.linspace(0, 1, 100)",
      "metadata": {
        "trusted": true
      },
      "outputs": [],
      "execution_count": null
    },
    {
      "cell_type": "code",
      "source": "def sin_function(x):\n    return np.sin(x)\n\ndef cos_function(x):\n    return np.cos(x)",
      "metadata": {
        "trusted": true
      },
      "outputs": [],
      "execution_count": null
    },
    {
      "cell_type": "code",
      "source": "y_sin = sin_function(x)\ny_cos = cos_function(x)\n\nfig, (ax1, ax2) = plt.subplots(1, 2, figsize=(10, 5))\n\nax1.plot(x, y_sin, color=\"red\")\nax1.set_title(\"sin(x)\")\nax1.set_xlabel(\"x\")\nax1.set_ylabel(\"sin(x)\")\n\nax2.plot(x, y_cos, color=\"purple\")\nax2.set_title(\"cos(x)\")\nax2.set_xlabel(\"x\")\nax2.set_ylabel(\"cos(x)\")\n\nplt.savefig(\"sin_cos_plot.pdf\")\nplt.show()\n",
      "metadata": {
        "trusted": true
      },
      "outputs": [],
      "execution_count": null
    },
    {
      "cell_type": "code",
      "source": "",
      "metadata": {
        "trusted": true
      },
      "outputs": [],
      "execution_count": null
    }
  ]
}